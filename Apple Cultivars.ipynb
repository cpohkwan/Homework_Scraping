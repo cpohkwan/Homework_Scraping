{
 "cells": [
  {
   "cell_type": "markdown",
   "id": "4a114772",
   "metadata": {},
   "source": [
    "# Apple cultivars\n",
    "\n",
    "* **Data:** `apples.csv`\n",
    "* **Description:** Types of apples\n",
    "* **Source:** https://en.wikipedia.org/wiki/List_of_apple_cultivars\n",
    "* **Columns of interest:**\n",
    "    * `Common name` - the non-scientific name of the apple cultivar\n",
    "    * `Origin` - where it came from\n",
    "    * `First developed` - year it was developed\n",
    "    * `Comment` - Description\n",
    "    * `Use` - whether best for eating, baking, etc\n",
    "\n",
    "Note that you'll need to brush up on `.str.contains` for this notebook."
   ]
  },
  {
   "cell_type": "markdown",
   "id": "32bd1f7a",
   "metadata": {},
   "source": [
    "## Read in your data"
   ]
  },
  {
   "cell_type": "code",
   "execution_count": null,
   "id": "f6d8cc9f",
   "metadata": {},
   "outputs": [],
   "source": []
  },
  {
   "cell_type": "markdown",
   "id": "e657b5ec",
   "metadata": {},
   "source": [
    "## Clean up the \"First developed\" column\n",
    "\n",
    "Sometimes it's a year and sometimes it is an \"introduced\" year, like `Introduced 1826`. We just want all of them to be years, so feel free to remove the \"Introduced\" part."
   ]
  },
  {
   "cell_type": "code",
   "execution_count": null,
   "id": "00f90991",
   "metadata": {},
   "outputs": [],
   "source": []
  },
  {
   "cell_type": "markdown",
   "id": "9dbfffa4",
   "metadata": {},
   "source": [
    "## What percentage of apples are just for eating?"
   ]
  },
  {
   "cell_type": "code",
   "execution_count": null,
   "id": "66f6948b",
   "metadata": {},
   "outputs": [],
   "source": []
  },
  {
   "cell_type": "markdown",
   "id": "b048626a",
   "metadata": {},
   "source": [
    "## Apples are from Kazakhstan, but they've spread since ancient times: calculate the top seven countries for apple cultivars in this dataset"
   ]
  },
  {
   "cell_type": "code",
   "execution_count": null,
   "id": "e22fa884",
   "metadata": {},
   "outputs": [],
   "source": []
  },
  {
   "cell_type": "markdown",
   "id": "f8c572be",
   "metadata": {},
   "source": [
    "## Plot them with the longest bar at the top"
   ]
  },
  {
   "cell_type": "code",
   "execution_count": null,
   "id": "d66f3a42",
   "metadata": {},
   "outputs": [],
   "source": []
  },
  {
   "cell_type": "markdown",
   "id": "c2a1a9f0",
   "metadata": {},
   "source": [
    "## For apples described as \"small\" in their comment section, how often are they just for eating?"
   ]
  },
  {
   "cell_type": "code",
   "execution_count": null,
   "id": "aea7114e",
   "metadata": {},
   "outputs": [],
   "source": []
  },
  {
   "cell_type": "markdown",
   "id": "8b21dc99",
   "metadata": {},
   "source": [
    "## Save a CSV of just apples from Sweden, calling it `sweden.csv`"
   ]
  },
  {
   "cell_type": "code",
   "execution_count": null,
   "id": "5afce25e",
   "metadata": {},
   "outputs": [],
   "source": []
  },
  {
   "cell_type": "markdown",
   "id": "56dde209",
   "metadata": {},
   "source": [
    "## What was the first apple cultivar from Japan?"
   ]
  },
  {
   "cell_type": "code",
   "execution_count": null,
   "id": "a51bd2af",
   "metadata": {},
   "outputs": [],
   "source": []
  },
  {
   "cell_type": "markdown",
   "id": "73a07843",
   "metadata": {},
   "source": [
    "## How old are these apple cultivars?\n",
    "\n",
    "You could use `.describe()`, but I want a graph. **What kind of chart do you use?** I want to see a graph that shows me a summary when these cultivars were discovered/introduced, not a graph of each individual one's year of introduction."
   ]
  },
  {
   "cell_type": "code",
   "execution_count": null,
   "id": "f2a14499",
   "metadata": {},
   "outputs": [],
   "source": []
  },
  {
   "cell_type": "markdown",
   "id": "f7ce0692",
   "metadata": {},
   "source": [
    "## How old are most apple cultivars that are used for creating cider?\n",
    "\n",
    "Cider used to be a big deal, so I would assume they're older. Include **anything that includes \"Cider\" anywhere in the `Use` description**. Make a graph, same as the last question."
   ]
  },
  {
   "cell_type": "code",
   "execution_count": null,
   "id": "532e06ef",
   "metadata": {},
   "outputs": [],
   "source": []
  }
 ],
 "metadata": {
  "kernelspec": {
   "display_name": "Python 3 (ipykernel)",
   "language": "python",
   "name": "python3"
  },
  "language_info": {
   "codemirror_mode": {
    "name": "ipython",
    "version": 3
   },
   "file_extension": ".py",
   "mimetype": "text/x-python",
   "name": "python",
   "nbconvert_exporter": "python",
   "pygments_lexer": "ipython3",
   "version": "3.10.3"
  }
 },
 "nbformat": 4,
 "nbformat_minor": 5
}
